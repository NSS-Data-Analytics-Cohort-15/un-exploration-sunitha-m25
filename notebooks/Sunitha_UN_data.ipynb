{
 "cells": [
  {
   "cell_type": "markdown",
   "id": "968f52e8-1bd6-4f63-99a0-261c0fd801fb",
   "metadata": {},
   "source": [
    "Q3.\tImport the required packages with their customary aliases as follows:"
   ]
  },
  {
   "cell_type": "code",
   "execution_count": null,
   "id": "0e759f85-6e84-4263-a7dc-89139b47831e",
   "metadata": {},
   "outputs": [],
   "source": [
    "import pandas as pd\n",
    "import numpy as np\n",
    "import matplotlib.pyplot as plt\n",
    "import seaborn as sns\n",
    "import warnings\n",
    "warnings.filterwarnings('ignore')"
   ]
  },
  {
   "cell_type": "markdown",
   "id": "b350b087-c5b0-4596-92cc-1276b0ff7bb1",
   "metadata": {},
   "source": [
    "Q4.\tUsing the pandas `read_csv()` method, read the GDP dataset into your notebook as a DataFrame called `gdp_df`. Take a look at the first few and last few rows to familiarize yourself with what is contained in this dataset."
   ]
  },
  {
   "cell_type": "code",
   "execution_count": null,
   "id": "5f7de6fe-e3fa-42c2-90c0-8badd11f35a1",
   "metadata": {},
   "outputs": [],
   "source": [
    "gdp_df = pd.read_csv('../data/gdp_percapita.csv') "
   ]
  },
  {
   "cell_type": "code",
   "execution_count": null,
   "id": "76f361cf-d701-4a2e-92c2-0111a8655e12",
   "metadata": {},
   "outputs": [],
   "source": [
    "gdp_df.head(4)"
   ]
  },
  {
   "cell_type": "code",
   "execution_count": null,
   "id": "93dc4920-7457-450e-a7b5-6e5eb931721c",
   "metadata": {},
   "outputs": [],
   "source": [
    "gdp_df.tail(4)"
   ]
  },
  {
   "cell_type": "markdown",
   "id": "2e066c9a-d5e9-41a7-ac47-25d0635f3c5e",
   "metadata": {},
   "source": [
    "Q5. How many rows and columns are in `gdp_df`? What are the data types of each column?"
   ]
  },
  {
   "cell_type": "code",
   "execution_count": null,
   "id": "1cd01d06-f279-4e6f-adc0-c6e75d11f583",
   "metadata": {},
   "outputs": [],
   "source": [
    "gdp_df.shape"
   ]
  },
  {
   "cell_type": "code",
   "execution_count": null,
   "id": "26583769-5347-4d11-b18a-25b812a2f2be",
   "metadata": {},
   "outputs": [],
   "source": [
    "gdp_df.dtypes"
   ]
  },
  {
   "cell_type": "markdown",
   "id": "4e5dea3e-bf79-446c-8f1e-b57e098cb0b0",
   "metadata": {},
   "source": [
    "Q6. Drop the `Value Footnotes` column and rename the remaining three to 'Country', 'Year', and 'GDP_Per_Capita'."
   ]
  },
  {
   "cell_type": "code",
   "execution_count": null,
   "id": "bf16079e-c2c9-4c10-b300-1b9b3c94bcb5",
   "metadata": {},
   "outputs": [],
   "source": [
    "gdp_df = gdp_df.drop(columns = ['Value Footnotes'])\n",
    "gdp_df.head(4)"
   ]
  },
  {
   "cell_type": "code",
   "execution_count": null,
   "id": "4a8401a6-7ed6-4fde-8abe-8be89e00832a",
   "metadata": {},
   "outputs": [],
   "source": [
    "gdp_df = gdp_df.rename(columns = {'Country or Area':'country','Year':'year','Value':'gdp_per_capita'})\n",
    "gdp_df.head(4)"
   ]
  },
  {
   "cell_type": "code",
   "execution_count": null,
   "id": "d1d5a2d0-b76d-4525-8c2c-5350e7baeb97",
   "metadata": {},
   "outputs": [],
   "source": [
    "gdp_df.head(4)"
   ]
  },
  {
   "cell_type": "markdown",
   "id": "deeb3353-8887-42a4-9a8a-ab12d42100e9",
   "metadata": {},
   "source": [
    "Q7. How many countries have data for all years? Which countries are missing many years of data? Look at the number of observations per year. What do you notice? "
   ]
  },
  {
   "cell_type": "code",
   "execution_count": null,
   "id": "d85048f6-0b5c-4c1a-bf98-34ab36ca501f",
   "metadata": {},
   "outputs": [],
   "source": [
    "gdp_df.groupby('country')['year'].count().reset_index()"
   ]
  },
  {
   "cell_type": "code",
   "execution_count": null,
   "id": "ae63cf2f-f2b4-44d5-9fb9-a12287008c2e",
   "metadata": {},
   "outputs": [],
   "source": [
    "countries = gdp_df.groupby('country')['year'].count().reset_index()"
   ]
  },
  {
   "cell_type": "code",
   "execution_count": null,
   "id": "ef92a167-8a09-4622-8661-2ef375110306",
   "metadata": {},
   "outputs": [],
   "source": [
    "countries.max()"
   ]
  },
  {
   "cell_type": "code",
   "execution_count": null,
   "id": "e878ce59-fe8b-4987-b60d-23b0e703753c",
   "metadata": {},
   "outputs": [],
   "source": [
    "countries[countries['year'] == 34].count()"
   ]
  },
  {
   "cell_type": "code",
   "execution_count": null,
   "id": "69044933-49c0-48e0-a9ad-16d023c692f7",
   "metadata": {},
   "outputs": [],
   "source": [
    "countries[countries['year']<34].count()"
   ]
  },
  {
   "cell_type": "code",
   "execution_count": null,
   "id": "93416eda-a53f-4431-91f2-9b110a30564e",
   "metadata": {},
   "outputs": [],
   "source": [
    "countries_missing_data=countries[countries['year']<34]"
   ]
  },
  {
   "cell_type": "code",
   "execution_count": null,
   "id": "693e3c8a-f5e3-43a5-8fc9-e0efa6bfccd9",
   "metadata": {},
   "outputs": [],
   "source": [
    "countries_missing_data"
   ]
  },
  {
   "cell_type": "markdown",
   "id": "a92271f7-0fcd-4a80-9aed-15688cd22340",
   "metadata": {},
   "source": [
    "Q8. In this question, you're going to create some plots to show the distribution of GDP per capita for the year 2020. Go to the Python Graph Gallery (https://www.python-graph-gallery.com/) and look at the different types of plots under the Distribution section. Create a histogram, a density plot, a boxplot, and a violin plot. What do you notice when you look at these plots? How do the plots compare and what information can you get out of one type that you can't necessarily get out of the others?"
   ]
  },
  {
   "cell_type": "code",
   "execution_count": null,
   "id": "be3f01ce-7b77-43fe-8d42-3e000ac1c356",
   "metadata": {},
   "outputs": [],
   "source": [
    "gdp_per_capita2020 = gdp_df.loc[gdp_df.year == 2020]\n",
    "gdp_per_capita2020"
   ]
  },
  {
   "cell_type": "code",
   "execution_count": null,
   "id": "e94cefca-dd5f-411e-a49a-85bb3b3b20f2",
   "metadata": {},
   "outputs": [],
   "source": [
    "gdp_per_capita2020_noyear = gdp_per_capita2020.drop(columns = ['year'])\n",
    "gdp_per_capita2020_noyear"
   ]
  },
  {
   "cell_type": "code",
   "execution_count": null,
   "id": "cf66f4e7-d5bf-4b4c-8f3b-bb9cfeb1b1fb",
   "metadata": {},
   "outputs": [],
   "source": [
    "# Plot the histogram using displot function\n",
    "sns.displot( data=gdp_per_capita2020_noyear, kde = True)"
   ]
  },
  {
   "cell_type": "code",
   "execution_count": null,
   "id": "5b7c4156-27a0-4e97-a997-4ca12de95fb7",
   "metadata": {},
   "outputs": [],
   "source": [
    "sns.kdeplot(gdp_per_capita2020_noyear, fill=True)\n",
    "plt.xlabel('gdp_per_capita')"
   ]
  },
  {
   "cell_type": "code",
   "execution_count": null,
   "id": "30351e07-7381-45fc-9f5d-26b565cef90c",
   "metadata": {},
   "outputs": [],
   "source": [
    "sns.boxplot(y=gdp_per_capita2020.gdp_per_capita);"
   ]
  },
  {
   "cell_type": "code",
   "execution_count": null,
   "id": "b6e495f5-9f71-4481-91e4-bddf66beec95",
   "metadata": {},
   "outputs": [],
   "source": [
    "%whos DataFrame"
   ]
  },
  {
   "cell_type": "code",
   "execution_count": null,
   "id": "a5dcc332-092b-4d8c-aa33-f3d857b7ddf3",
   "metadata": {},
   "outputs": [],
   "source": [
    "sns.violinplot(y=gdp_per_capita2020.gdp_per_capita)"
   ]
  },
  {
   "cell_type": "markdown",
   "id": "358bd7f9-5c01-4830-be90-3c7c5ff8ad68",
   "metadata": {},
   "source": [
    "Q9. What was the median GDP per capita value in 2020?"
   ]
  },
  {
   "cell_type": "code",
   "execution_count": null,
   "id": "899d9f43-8bd3-4cb3-bc73-1442914b7e1f",
   "metadata": {},
   "outputs": [],
   "source": [
    "gdp_per_capita2020.gdp_per_capita.median()"
   ]
  },
  {
   "cell_type": "markdown",
   "id": "16417e8a-5ab2-4d2d-93d4-f765b8e16541",
   "metadata": {},
   "source": [
    "Q10. For this question, you're going to create some visualizations to compare GDP per capita values for the years 1990, 2000, 2010, and 2020. Start by subsetting your data to just these 4 years into a new DataFrame named gdp_decades. Using this, create the following 4 plots:\n",
    "\t* A boxplot\n",
    "\t* A barplot (check out the Barplot with Seaborn section: https://www.python-graph-gallery.com/barplot/#Seaborn)\n",
    "\t* A scatterplot\n",
    "\t* A scatterplot with a trend line overlaid (see this regplot example: https://www.python-graph-gallery.com/42-custom-linear-regression-fit-seaborn)  \n",
    "Comment on what you observe has happened to GDP values over time and the relative strengths and weaknesses of each type of plot."
   ]
  },
  {
   "cell_type": "code",
   "execution_count": null,
   "id": "570d13ef-730c-4d60-99bd-6f164d36d70b",
   "metadata": {},
   "outputs": [],
   "source": [
    "gdp_decades = gdp_df.loc[gdp_df.year.isin([1990, 2000, 2010, 2020])]\n",
    "gdp_decades"
   ]
  },
  {
   "cell_type": "code",
   "execution_count": null,
   "id": "45eab350-405b-4675-a6cc-6bb201ece007",
   "metadata": {},
   "outputs": [],
   "source": [
    "#sns.boxplot(x=gdp_decades.year, y=gdp_decades.gdp_per_capita);\n",
    "sns.boxplot(data=gdp_decades, x = 'year', y= 'gdp_per_capita')"
   ]
  },
  {
   "cell_type": "code",
   "execution_count": null,
   "id": "55b13bdf-2553-4781-9a11-17d595477247",
   "metadata": {},
   "outputs": [],
   "source": [
    "sns.barplot(x='year', y='gdp_per_capita', data=gdp_decades)"
   ]
  },
  {
   "cell_type": "code",
   "execution_count": null,
   "id": "7c47ff20-87bd-4208-9ace-24ea0ed18ab8",
   "metadata": {},
   "outputs": [],
   "source": [
    "sns.scatterplot(x='year', y='gdp_per_capita', data=gdp_decades)"
   ]
  },
  {
   "cell_type": "code",
   "execution_count": null,
   "id": "fdc3c486-38c3-4400-bdca-1c472307c5e6",
   "metadata": {},
   "outputs": [],
   "source": [
    "sns.regplot(x='year', y='gdp_per_capita', data=gdp_decades, line_kws={'color': 'red', 'linewidth': 1.5});"
   ]
  },
  {
   "cell_type": "markdown",
   "id": "2b05331f-1248-4254-ae3d-29b98753458d",
   "metadata": {},
   "source": [
    "Q11. Which country was the first to have a GDP per capita greater than $100,000?"
   ]
  },
  {
   "cell_type": "code",
   "execution_count": null,
   "id": "d0a9a8ed-27f9-4b36-83a0-95514e5f7343",
   "metadata": {},
   "outputs": [],
   "source": [
    "gdp_df.head()"
   ]
  },
  {
   "cell_type": "code",
   "execution_count": null,
   "id": "e0566e71-d64c-4b22-8f5e-7cb19372c2ac",
   "metadata": {},
   "outputs": [],
   "source": [
    "over100k = gdp_df.loc[(gdp_df.gdp_per_capita > 100000)]\n",
    "over100k.loc[over100k.year == over100k.year.min()]"
   ]
  },
  {
   "cell_type": "markdown",
   "id": "d9dd81ff-78e8-408c-a4c7-3d734d49332a",
   "metadata": {},
   "source": [
    "United Arab Emirates and Brunei were the first to have GDP per capita greater than $100,000"
   ]
  },
  {
   "cell_type": "markdown",
   "id": "f82b8207-de37-47ab-a57d-3094fb42198a",
   "metadata": {},
   "source": [
    "12. Which country had the highest GDP per capita in 2020? Create a plot showing how this country's GDP per capita has changed over the timespan of the dataset."
   ]
  },
  {
   "cell_type": "markdown",
   "id": "49e4abe2-c080-49b1-9f85-06c920e25920",
   "metadata": {},
   "source": [
    "Alternative code from Jennifer \n",
    "# Filtering by GDP_Per_Capita in 2020\n",
    "gdp_2020_df = gdp_df[gdp_df['Year'] == 2020]\n",
    "print(gdp_2020_df)\n",
    "# Sorting by the Year 2020 \n",
    "highest_gdp_country_2020_row = gdp_2020_df.sort_values(by='GDP_Per_Capita', ascending=False).iloc[0]\n",
    "print('highest_gdp_country_2020_row')\n",
    "# Creating a plot/Filtering for the specific country\n",
    "country_data = gdp_df[gdp_df['Country'] == 'Luxembourg'].sort_values(by='Year')\n",
    "plt.figure(figsize=(10, 6))\n",
    "plt.plot(country_data['Year'], country_data['GDP_Per_Capita'], marker='o', linestyle='-')\n",
    "plt.title('GDP per Capita of Luxembourg Over Time')\n",
    "plt.xlabel('Year')\n",
    "plt.ylabel('GDP Per Capita ($)')\n",
    "plt.grid(True)\n",
    "plt.xticks(country_data['Year'].unique()) # Ensuring all years are shown as ticks\n",
    "plt.xticks(rotation=45, ha='right') # Rotating the labels by 45 degrees, align to the right\n",
    "plt.tight_layout()\n",
    "plt.show()"
   ]
  },
  {
   "cell_type": "code",
   "execution_count": null,
   "id": "1d658d92-8e65-4305-adce-e213e01f47b4",
   "metadata": {},
   "outputs": [],
   "source": [
    "gdp_sorted1 = gdp_df.loc[gdp_df.year == 2020].sort_values(by = 'gdp_per_capita', ascending = False)\n",
    "gdp_sorted1.head()"
   ]
  },
  {
   "cell_type": "markdown",
   "id": "bc3be2e2-d18e-4581-a7b9-f023de417995",
   "metadata": {},
   "source": [
    "Dibran's code alternatively\n",
    "gdp_df(gdp_df{year}==2020}.nlargest(1,gdp_per_capita)"
   ]
  },
  {
   "cell_type": "code",
   "execution_count": null,
   "id": "feff70ff-c575-40be-a03c-839862601357",
   "metadata": {},
   "outputs": [],
   "source": [
    "gdp_lux = gdp_df.loc[gdp_df.country == 'Luxembourg']\n",
    "gdp_lux.head()"
   ]
  },
  {
   "cell_type": "code",
   "execution_count": null,
   "id": "12890e82-2a0e-44b6-81ab-46de67c5275f",
   "metadata": {},
   "outputs": [],
   "source": [
    "sns.regplot(x='year', y='gdp_per_capita', data=gdp_lux, line_kws={'color': 'red', 'linewidth': 1.5}, color = 'lightblue');"
   ]
  },
  {
   "cell_type": "markdown",
   "id": "b211d858-2a69-4508-acbc-11032fc980e8",
   "metadata": {},
   "source": [
    "Q13. Which country had the lowest GDP per capita in 2020? Create a plot showing how this country's GDP per capita has changed over the timespan of the dataset. **Bonus question:** Is it true in general that coutries had a higher GDP per capita in 2020 than in 1990? Which countries had lower GDP per capita in 2020 than in 1990?"
   ]
  },
  {
   "cell_type": "code",
   "execution_count": null,
   "id": "8a6b8e5f-9183-481b-aabb-3fd58405a028",
   "metadata": {},
   "outputs": [],
   "source": [
    "gdp_sorted1 = gdp_df.loc[gdp_df.year == 2020].sort_values(by = 'gdp_per_capita')\n",
    "gdp_sorted1.head()"
   ]
  },
  {
   "cell_type": "code",
   "execution_count": null,
   "id": "154bf0bf-8888-42a7-8ad9-e1ba3c30e933",
   "metadata": {},
   "outputs": [],
   "source": [
    "gdp_burundi = gdp_df.loc[gdp_df.country == 'Burundi']\n",
    "gdp_burundi.head()"
   ]
  },
  {
   "cell_type": "code",
   "execution_count": null,
   "id": "30d89808-de1d-4b90-92ec-61a6218e014e",
   "metadata": {},
   "outputs": [],
   "source": [
    "sns.regplot(x='year', y='gdp_per_capita', data=gdp_burundi, line_kws={'color': 'red', 'linewidth': 1.5}, color = 'lightblue');"
   ]
  },
  {
   "cell_type": "markdown",
   "id": "c397cd41-44e5-4ec4-a439-642e49ce14e4",
   "metadata": {},
   "source": [
    "Q13. Bonus Question"
   ]
  },
  {
   "cell_type": "code",
   "execution_count": null,
   "id": "f77a1a0a-bf08-4930-934e-e2c47e9510e5",
   "metadata": {},
   "outputs": [],
   "source": [
    "gdp_1990=gdp_df.loc[gdp_df.year == 1990]"
   ]
  },
  {
   "cell_type": "code",
   "execution_count": null,
   "id": "2cc9f729-e2fa-4e33-b419-2867e86a7a9f",
   "metadata": {},
   "outputs": [],
   "source": [
    "merged_90_20 = pd.merge(gdp_1990, gdp_sorted1, how = 'inner', on = 'country')"
   ]
  },
  {
   "cell_type": "code",
   "execution_count": null,
   "id": "4f297862-b794-400a-887e-fec41c31e987",
   "metadata": {},
   "outputs": [],
   "source": [
    "merged_90_20.loc[merged_90_20.gdp_per_capita_x > merged_90_20.gdp_per_capita_y]"
   ]
  },
  {
   "cell_type": "markdown",
   "id": "3cbce1ce-e54b-450b-bbb8-a0b5eae9641e",
   "metadata": {},
   "source": [
    "The list above shows the countries that had a lower gdp per capita in 2020 than in 1990."
   ]
  },
  {
   "cell_type": "markdown",
   "id": "0f28a93d-6be8-4d7e-8f37-13bb127e4f8e",
   "metadata": {},
   "source": [
    "Q14. Read in the internet use dataset into a DataFrame named `internet_df`. You will likely get errors when doing this. Check the arguments for the read_csv function to find ones that can help correct the errors (https://pandas.pydata.org/docs/reference/api/pandas.read_csv.html) Once you are able to read it in, take per a look at the top and bottom few rows to make sure that it has been read in correctly. Also, check the datatypes of the columns."
   ]
  },
  {
   "cell_type": "code",
   "execution_count": null,
   "id": "d787e749-f614-4920-9adf-30e3695bfb11",
   "metadata": {},
   "outputs": [],
   "source": [
    "#pd.read_csv('../data/internet_use.csv')\n",
    "internet_df = pd.read_csv('../data/internet_use.csv', engine= 'python', on_bad_lines = 'skip', skipfooter=299)"
   ]
  },
  {
   "cell_type": "code",
   "execution_count": null,
   "id": "d4341258-7f4c-4c90-962a-6625e7cc0783",
   "metadata": {},
   "outputs": [],
   "source": [
    "internet_df.dtypes"
   ]
  },
  {
   "cell_type": "markdown",
   "id": "05571d56-78f7-4be7-82a4-4d168a8b8836",
   "metadata": {},
   "source": [
    "Q15. Drop the `Value Footnotes` column and rename the remaining three to 'Country', 'Year', and 'Internet_Users_Pct'."
   ]
  },
  {
   "cell_type": "code",
   "execution_count": null,
   "id": "0cdf4d61-81eb-48ca-af8e-1d361dd8fc7a",
   "metadata": {},
   "outputs": [],
   "source": [
    "internet_df = internet_df.drop(columns=['Value Footnotes'])\n",
    "internet_df.head()"
   ]
  },
  {
   "cell_type": "code",
   "execution_count": null,
   "id": "cd826fff-c087-4f1e-b0e9-a496d033e656",
   "metadata": {},
   "outputs": [],
   "source": [
    "internet_df = internet_df.rename(columns = {'Country or Area':'country','Year':'year','Value':'internet_users_pct'})\n",
    "internet_df.head()"
   ]
  },
  {
   "cell_type": "markdown",
   "id": "039af078-3ec1-4537-b5e7-4ce98067067f",
   "metadata": {},
   "source": [
    "Q16. Look at the number of observations in this dataset per year. What do you notice?"
   ]
  },
  {
   "cell_type": "code",
   "execution_count": null,
   "id": "c07b7f91-f3c3-457b-ba9e-966afc2a8fba",
   "metadata": {},
   "outputs": [],
   "source": [
    "year_count = internet_df.groupby('year')['country'].count().sort_index()"
   ]
  },
  {
   "cell_type": "code",
   "execution_count": null,
   "id": "2f69e2f1-eef7-42ae-846c-7070a2cb6015",
   "metadata": {},
   "outputs": [],
   "source": [
    "year_count"
   ]
  },
  {
   "cell_type": "code",
   "execution_count": null,
   "id": "59da1f75-a3cf-4e2f-acff-afe6eeaf547f",
   "metadata": {},
   "outputs": [],
   "source": [
    "year_count.sort_values('year').plot(x = 'year', y = 'count')"
   ]
  },
  {
   "cell_type": "markdown",
   "id": "2e72efa5-d2ad-41c0-a29b-740e4d37742a",
   "metadata": {},
   "source": [
    "Q17. What is the first year to have a non-zero internet users percentage value?"
   ]
  },
  {
   "cell_type": "code",
   "execution_count": null,
   "id": "71ec2139-62f3-4b0f-97ec-38bca0c45d9d",
   "metadata": {},
   "outputs": [],
   "source": [
    "internet_df.loc[internet_df.internet_users_pct != 0].sort_values('year')"
   ]
  },
  {
   "cell_type": "markdown",
   "id": "a43c0096-b1e8-4911-a8d6-ce0020c566ca",
   "metadata": {},
   "source": [
    "1990 is the first year with a non_zero internet usage."
   ]
  },
  {
   "cell_type": "markdown",
   "id": "d218b76e-34b1-4d08-a19e-b18d98bec622",
   "metadata": {},
   "source": [
    "Q18. How does the distribution of internet users percent differ for 2000 and 2014?"
   ]
  },
  {
   "cell_type": "markdown",
   "id": "b2b1e33c-2444-43ee-849d-d6c95f71939b",
   "metadata": {},
   "source": [
    "Alternative code\n",
    "plt.figure(figsize=(10, 5))\n",
    "\n",
    "# Histogram\n",
    "internet_2000 = internet_df[internet_df['Year'] == 2000]['Internet_Users_Pct']\n",
    "internet_2014 = internet_df[internet_df['Year'] == 2014]['Internet_Users_Pct']\n",
    "\n",
    "plt.hist(internet_2000, range=(0, 100), bins=20, alpha=0.5, label='2000')\n",
    "plt.hist(internet_2014, range=(0, 100), bins=20, alpha=0.5, label='2014')\n",
    "\n",
    "plt.xlabel('Internet Users (%)')\n",
    "plt.ylabel('Number of Countries')\n",
    "plt.title('Distribution of Internet Users in 2000 vs 2014')\n",
    "plt.legend()\n",
    "plt.show()"
   ]
  },
  {
   "cell_type": "code",
   "execution_count": null,
   "id": "e982ab6e-f555-43ec-b799-ea61cbda5386",
   "metadata": {},
   "outputs": [],
   "source": [
    "internet_00_14 = internet_df.loc[internet_df.year.isin([2000, 2014])]"
   ]
  },
  {
   "cell_type": "code",
   "execution_count": null,
   "id": "a418a6bf-a579-49f1-981c-2a3ec320d621",
   "metadata": {},
   "outputs": [],
   "source": [
    "sns.boxplot(data = internet_00_14, x = 'year', y = 'internet_users_pct')"
   ]
  },
  {
   "cell_type": "markdown",
   "id": "1082fee0-bab6-4d71-bbfb-344c74b949ba",
   "metadata": {},
   "source": [
    "Q19. For how many countries was the percentage of internet users below 5% in 2014?"
   ]
  },
  {
   "cell_type": "markdown",
   "id": "b4849ccc-cd06-4498-a9cd-7f168f9b2659",
   "metadata": {},
   "source": [
    "Alternative code\n",
    "internet_df.loc[(internet_df['year'] == 2014) & (internet_df['internet_users_pct'] < 5)]"
   ]
  },
  {
   "cell_type": "code",
   "execution_count": null,
   "id": "2cded3e8-a245-48b5-8f0b-43ca7fdbd8e5",
   "metadata": {},
   "outputs": [],
   "source": [
    "internet_df.loc[(internet_df.year == 2014) & (internet_df.internet_users_pct < 5)]"
   ]
  },
  {
   "cell_type": "code",
   "execution_count": null,
   "id": "c45acd14-a6ee-4db7-8fa0-06c7fc5b0485",
   "metadata": {},
   "outputs": [],
   "source": [
    "len(internet_df.loc[(internet_df.year == 2014) & (internet_df.internet_users_pct < 5)])"
   ]
  },
  {
   "cell_type": "markdown",
   "id": "f0bd63fe-b6ef-4b07-a5a9-a031b420584f",
   "metadata": {},
   "source": [
    "10 countries were less than 5% for internet usage in 2014"
   ]
  },
  {
   "cell_type": "markdown",
   "id": "d6d2d707-8044-40a8-b63b-3109165c9cc6",
   "metadata": {},
   "source": [
    "Q20. Merge the two DataFrames to one. Do this in a way that keeps **all rows** from each of the two DataFrames. Call the new DataFrame `gdp_and_internet_use`. Look at the first and last few rows to confirm that it merged correctly."
   ]
  },
  {
   "cell_type": "code",
   "execution_count": null,
   "id": "3eb8c08c-bc58-42f3-a80c-58775b4693c6",
   "metadata": {},
   "outputs": [],
   "source": [
    "pd.merge(gdp_df, internet_df, how = 'outer', on = ['country', 'year'])"
   ]
  },
  {
   "cell_type": "code",
   "execution_count": null,
   "id": "1e42be62-9232-40e4-a92c-77a5275250a6",
   "metadata": {},
   "outputs": [],
   "source": [
    "gdp_and_internet_use = pd.merge(gdp_df, internet_df, how = 'outer', on = ['country', 'year'])"
   ]
  },
  {
   "cell_type": "markdown",
   "id": "e1867492-0850-43b8-9335-f0de7bf98ec4",
   "metadata": {},
   "source": [
    "Q21. Find the three countries with the highest internet users percentage in 2014. Use a seaborn FacetGrid (https://seaborn.pydata.org/generated/seaborn.FacetGrid.html) to compare how the GDP per capita has changed over time for these three countries. What do you notice?"
   ]
  },
  {
   "cell_type": "code",
   "execution_count": null,
   "id": "d6489cf6-9641-4c41-8e3c-27e9f0723cfb",
   "metadata": {},
   "outputs": [],
   "source": [
    "internet_df.loc[internet_df.year == 2014].sort_values('internet_users_pct', ascending = False).country.head(3)"
   ]
  },
  {
   "cell_type": "code",
   "execution_count": null,
   "id": "719ae9e4-0ffd-4fef-b83a-af2871f53ada",
   "metadata": {},
   "outputs": [],
   "source": [
    "top_3_2014 = internet_df.loc[internet_df.year == 2014].sort_values('internet_users_pct', ascending = False).country.head(3)"
   ]
  },
  {
   "cell_type": "code",
   "execution_count": null,
   "id": "57cdfc2c-ef98-48a9-bbeb-c0b059293235",
   "metadata": {},
   "outputs": [],
   "source": [
    "gdp_and_internet_use.loc[gdp_and_internet_use.country.isin(top_3_2014)]"
   ]
  },
  {
   "cell_type": "code",
   "execution_count": null,
   "id": "21337999-03fe-4057-87ec-3d5661f5ae6b",
   "metadata": {},
   "outputs": [],
   "source": [
    "top_3_2014 = gdp_and_internet_use.loc[gdp_and_internet_use.country.isin(top_3_2014)]"
   ]
  },
  {
   "cell_type": "code",
   "execution_count": null,
   "id": "ec9e8b43-04c3-40ae-9521-912cbd16e5a2",
   "metadata": {},
   "outputs": [],
   "source": [
    "top_3 = sns.FacetGrid(top_3_2014, col = 'country')\n",
    "top_3.map(sns.lineplot, 'year', 'gdp_per_capita')"
   ]
  },
  {
   "cell_type": "markdown",
   "id": "886ea276-fd70-48b3-b640-d7159194869f",
   "metadata": {},
   "source": [
    "Q22. Subset `gdp_and_internet_use` to just the year 2014. Save this as a new dataframe named `gdp_and_internet_use_2014`."
   ]
  },
  {
   "cell_type": "code",
   "execution_count": null,
   "id": "7b228e43-4655-4283-aaa9-56a0f6c669a5",
   "metadata": {},
   "outputs": [],
   "source": [
    "gdp_and_internet_use_2014 = gdp_and_internet_use.loc[gdp_and_internet_use.year == 2014]\n",
    "gdp_and_internet_use_2014.head(3)"
   ]
  },
  {
   "cell_type": "markdown",
   "id": "bab9e4b7-97e5-423c-9b61-0df7da7f3805",
   "metadata": {},
   "source": [
    "Q23. Create a plot which compares Internet Users Percentage and GDP per Capita for the year 2014. What do you notice from this plot? If you see any unusual points, investigate them."
   ]
  },
  {
   "cell_type": "code",
   "execution_count": null,
   "id": "c3914c1c-a7a5-43c6-8d39-7f9435752048",
   "metadata": {
    "scrolled": true
   },
   "outputs": [],
   "source": [
    "sns.scatterplot(data=gdp_and_internet_use_2014, x=\"gdp_per_capita\", y=\"internet_users_pct\")"
   ]
  },
  {
   "cell_type": "markdown",
   "id": "d29d12bc-0436-4d8c-a872-e2f4204b64a3",
   "metadata": {},
   "source": [
    "Q24. **Stretch Question:** Use the `qcut` function from pandas (https://pandas.pydata.org/docs/reference/api/pandas.qcut.html) to divide countries in `gdp_per_capita_2014` into three groups based on their GDP per capita values. Label these groups as \"Low\", \"Medium\", and \"High\". Put these labels in a new column, named \"GDP_group\"."
   ]
  },
  {
   "cell_type": "code",
   "execution_count": null,
   "id": "17f45a1c-3725-4d52-a12d-5092f747fa05",
   "metadata": {},
   "outputs": [],
   "source": [
    "pd.qcut(x = gdp_and_internet_use.gdp_per_capita, q = 3, labels = ['Low', 'Medium', 'High'])"
   ]
  },
  {
   "cell_type": "code",
   "execution_count": null,
   "id": "0fb79b93-0b28-4b7d-a389-7c684525295b",
   "metadata": {},
   "outputs": [],
   "source": [
    "gdp_and_internet_use_2014['gdp_group'] = pd.qcut(x = gdp_and_internet_use.gdp_per_capita, q = 3, labels = ['Low', 'Medium', 'High'])"
   ]
  },
  {
   "cell_type": "code",
   "execution_count": null,
   "id": "648196a7-a6c7-4580-9e4e-c9776e0893f0",
   "metadata": {},
   "outputs": [],
   "source": [
    "gdp_and_internet_use_2014"
   ]
  },
  {
   "cell_type": "code",
   "execution_count": null,
   "id": "c713c910-b77a-4c6f-ac17-e5fe0d8a4207",
   "metadata": {},
   "outputs": [],
   "source": [
    "gdp_and_internet_use_2014.loc[gdp_and_internet_use_2014.gdp_group == 'Low']"
   ]
  },
  {
   "cell_type": "markdown",
   "id": "d057319d-2787-4e8a-9158-3d566051c89d",
   "metadata": {},
   "source": [
    "Q25. **Stretch Question:** How does the median internet users percentage compare for the three gdp groups?"
   ]
  },
  {
   "cell_type": "code",
   "execution_count": null,
   "id": "683dd807-70b1-467d-abf8-6afa60851432",
   "metadata": {},
   "outputs": [],
   "source": [
    "gdp_and_internet_use_2014.groupby('gdp_group')['internet_users_pct'].median()"
   ]
  }
 ],
 "metadata": {
  "kernelspec": {
   "display_name": "Python 3 (ipykernel)",
   "language": "python",
   "name": "python3"
  },
  "language_info": {
   "codemirror_mode": {
    "name": "ipython",
    "version": 3
   },
   "file_extension": ".py",
   "mimetype": "text/x-python",
   "name": "python",
   "nbconvert_exporter": "python",
   "pygments_lexer": "ipython3",
   "version": "3.13.5"
  }
 },
 "nbformat": 4,
 "nbformat_minor": 5
}
